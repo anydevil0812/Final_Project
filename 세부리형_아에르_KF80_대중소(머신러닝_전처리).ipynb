{
 "cells": [
  {
   "cell_type": "code",
   "execution_count": 382,
   "id": "61911011",
   "metadata": {},
   "outputs": [],
   "source": [
    "file_path = \"C:/Users/Playdata/Final/새부리형_아에르_KF80_대중소.csv\"\n",
    "\n",
    "with open(file_path, 'r', encoding='UTF-8') as f:\n",
    "    okja = f.readlines()"
   ]
  },
  {
   "cell_type": "markdown",
   "id": "db17fdd8",
   "metadata": {},
   "source": [
    "### Test 파일로 원본 파일을 복사해 놓고, join으로 하나의 string으로 만들어준다."
   ]
  },
  {
   "cell_type": "code",
   "execution_count": 341,
   "id": "8db8b7ed",
   "metadata": {},
   "outputs": [],
   "source": [
    "test = okja.copy()"
   ]
  },
  {
   "cell_type": "code",
   "execution_count": 342,
   "id": "e5375179",
   "metadata": {},
   "outputs": [],
   "source": [
    "test = \" \".join(test) # 우선적으로 join 해준다."
   ]
  },
  {
   "cell_type": "markdown",
   "id": "a681da6b",
   "metadata": {},
   "source": [
    "### 댓글들을 신고의 기준으로 나누는게 가장 좋았다."
   ]
  },
  {
   "cell_type": "code",
   "execution_count": 345,
   "id": "689a0ec3",
   "metadata": {},
   "outputs": [],
   "source": [
    "test = test.split('신고')"
   ]
  },
  {
   "cell_type": "markdown",
   "id": "a6042523",
   "metadata": {},
   "source": [
    "### 이 제품은 댓글들이 대형 중형 소형으로 나뉘어져 있었다. 댓글 파일이 무엇으로 이루어져 있는지 카테고리를 확인하고, 각각의 사이즈의 빈 카테고리를 만든다."
   ]
  },
  {
   "cell_type": "code",
   "execution_count": 347,
   "id": "72e2f7ce",
   "metadata": {},
   "outputs": [],
   "source": [
    "소형 = []\n",
    "중형 = []\n",
    "대형 = []"
   ]
  },
  {
   "cell_type": "markdown",
   "id": "5a6b5e50",
   "metadata": {},
   "source": [
    "### 엄밀하게 나누기 위하여 중형 대형(사이즈 별)이 아닌, 색상과 사이즈의 앞 뒷 말을 리스트에 담게 하였다."
   ]
  },
  {
   "cell_type": "code",
   "execution_count": 348,
   "id": "3a065d7e",
   "metadata": {},
   "outputs": [],
   "source": [
    "for i in range(len(test)):\n",
    "    if ('화이트 중형' in test[i]) or ('베이지 중형' in test[i]) or ('연핑크 중형' in test[i]) or ('블랙 중형' in test[i]) or ('그레이 중형' in test[i]) or ('중형 화이트'in test[i]) or ('중형 베이지'in test[i]) or ('중형 연핑크'in test[i]) or ('중형 블랙'in test[i]) or ('중형 그레이' in test[i]):\n",
    "        중형.append(test[i])\n",
    "    elif ('화이트 소형' in test[i]) or ('베이지 소형' in test[i]) or ('연핑크 소형' in test[i]) or ('블랙 소형' in test[i]) or ('그레이 소형' in test[i]) or ('소형 화이트'in test[i]) or ('소형 베이지'in test[i]) or ('소형 연핑크'in test[i]) or ('소형 블랙'in test[i]) or ('소형 그레이' in test[i]):\n",
    "        소형.append(test[i])\n",
    "    elif ('화이트 대형'  in test[i]) or ('베이지 대형' in test[i]) or ('연핑크 대형' in test[i]) or ('블랙 대형' in test[i]) or ('그레이 대형' in test[i]) or ('대형 화이트'in test[i]) or ('대형 베이지'in test[i]) or ('대형 연핑크'in test[i]) or ('대형 블랙'in test[i]) or ('대형 그레이' in test[i]):\n",
    "        대형.append(test[i])"
   ]
  },
  {
   "cell_type": "code",
   "execution_count": 352,
   "id": "7ff25937",
   "metadata": {},
   "outputs": [
    {
     "data": {
      "text/plain": [
       "4671"
      ]
     },
     "execution_count": 352,
     "metadata": {},
     "output_type": "execute_result"
    }
   ],
   "source": [
    "len(중형)"
   ]
  },
  {
   "cell_type": "code",
   "execution_count": 353,
   "id": "e410a207",
   "metadata": {},
   "outputs": [
    {
     "data": {
      "text/plain": [
       "965"
      ]
     },
     "execution_count": 353,
     "metadata": {},
     "output_type": "execute_result"
    }
   ],
   "source": [
    "len(소형)"
   ]
  },
  {
   "cell_type": "code",
   "execution_count": 354,
   "id": "e613418b",
   "metadata": {},
   "outputs": [
    {
     "data": {
      "text/plain": [
       "3940"
      ]
     },
     "execution_count": 354,
     "metadata": {},
     "output_type": "execute_result"
    }
   ],
   "source": [
    "len(대형)"
   ]
  },
  {
   "cell_type": "markdown",
   "id": "720ebd0c",
   "metadata": {},
   "source": [
    "### 위에 사이즈를 합치니 9576개가 나왔다. 전체 10000개의 숫자에 가깝게 나왔다. 제대로 분류되었는지도 마지막에 확인하는 과정이 필요하다."
   ]
  },
  {
   "cell_type": "code",
   "execution_count": 178,
   "id": "7165c9c7",
   "metadata": {},
   "outputs": [],
   "source": [
    "#우선적으로 한글만 남기기\n",
    "# 특정 문자 지우기, 색상, '색상 & 사이즈', "
   ]
  },
  {
   "cell_type": "code",
   "execution_count": 355,
   "id": "321584fa",
   "metadata": {},
   "outputs": [],
   "source": [
    "소형 = \" \".join(소형)"
   ]
  },
  {
   "cell_type": "markdown",
   "id": "b1b77cd4",
   "metadata": {},
   "source": [
    "아래 정규 표현식은 한글만 추려서 출력하는 표현식이다. 숫자, 특수문자, 알파벳 제외"
   ]
  },
  {
   "cell_type": "code",
   "execution_count": 356,
   "id": "381d2c70",
   "metadata": {},
   "outputs": [],
   "source": [
    "소형 = re.sub(r\"[^\\uAC00-\\uD7A3\\s]\", \"\", 소형)"
   ]
  },
  {
   "cell_type": "code",
   "execution_count": 358,
   "id": "7f553ffa",
   "metadata": {},
   "outputs": [],
   "source": [
    "소형 = 소형.replace(\"아에르\", '')\n",
    "소형 = 소형.replace(\"어드밴스드\", '')\n",
    "소형 = 소형.replace(\"색상\", '')\n",
    "소형 = 소형.replace(\"사이즈\", '')\n",
    "소형 = 소형.replace(\"화이트\", '')\n",
    "소형 = 소형.replace(\"소형\", '')\n",
    "소형 = 소형.replace(\"이미지\", '')\n",
    "소형 = 소형.replace(\"펼쳐보기\", '')\n",
    "소형 = 소형.replace(\"리뷰\", '')\n",
    "소형 = 소형.replace(\"더보기접기\", '')\n",
    "소형 = 소형.replace(\"평점\", '')\n",
    "소형 = 소형.replace(\"무료배송\", '')\n",
    "소형 = 소형.replace(\"더보기\", '')\n",
    "소형 = 소형.replace(\"사진비디오 수\", '')\n",
    "소형 = 소형.replace(\"특가\", '')\n",
    "소형 = 소형.replace(\"라이트핏\", '')"
   ]
  },
  {
   "cell_type": "code",
   "execution_count": 359,
   "id": "ba9c0ca4",
   "metadata": {},
   "outputs": [],
   "source": [
    "소형 = 소형.replace(\"이벤트\", '')\n",
    "소형 = 소형.replace(\"그레이\", '')\n",
    "소형 = 소형.replace(\"블랙\", '')\n",
    "소형 = 소형.replace(\"컬러\", '')\n",
    "소형 = 소형.replace(\"연핑크\", '')\n",
    "소형 = 소형.replace(\"베이지\", '')\n",
    "소형 = 소형.replace(\"매\\n\", '')\n",
    "소형 = 소형.replace(\"매 이상\", '')\n",
    "소형 = 소형.replace(\"피크\", '')"
   ]
  },
  {
   "cell_type": "code",
   "execution_count": 362,
   "id": "2f42b580",
   "metadata": {},
   "outputs": [],
   "source": [
    "중형 = \" \".join(중형)"
   ]
  },
  {
   "cell_type": "code",
   "execution_count": 363,
   "id": "b7cecc12",
   "metadata": {},
   "outputs": [],
   "source": [
    "중형 = re.sub(r\"[^\\uAC00-\\uD7A3\\s]\", \"\", 중형)"
   ]
  },
  {
   "cell_type": "markdown",
   "id": "57a49491",
   "metadata": {},
   "source": [
    "그 중에서 불필요하게 중복되는 단어를 선택하여 제거해준다. 수작업 필요"
   ]
  },
  {
   "cell_type": "code",
   "execution_count": 364,
   "id": "d6a18ddd",
   "metadata": {},
   "outputs": [],
   "source": [
    "중형 = 중형.replace(\"아에르\", '')\n",
    "중형 = 중형.replace(\"어드밴스드\", '')\n",
    "중형 = 중형.replace(\"색상\", '')\n",
    "중형 = 중형.replace(\"사이즈\", '')\n",
    "중형 = 중형.replace(\"화이트\", '')\n",
    "중형 = 중형.replace(\"중형\", '')\n",
    "중형 = 중형.replace(\"이미지\", '')\n",
    "중형 = 중형.replace(\"펼쳐보기\", '')\n",
    "중형 = 중형.replace(\"리뷰\", '')\n",
    "중형 = 중형.replace(\"더보기접기\", '')\n",
    "중형 = 중형.replace(\"평점\", '')\n",
    "중형 = 중형.replace(\"무료배송\", '')\n",
    "중형 = 중형.replace(\"더보기\", '')\n",
    "중형 = 중형.replace(\"사진비디오 수\", '')\n",
    "중형 = 중형.replace(\"특가\", '')\n",
    "중형 = 중형.replace(\"라이트핏\", '')\n",
    "중형 = 중형.replace(\"이벤트\", '')\n",
    "중형 = 중형.replace(\"그레이\", '')\n",
    "중형 = 중형.replace(\"블랙\", '')\n",
    "중형 = 중형.replace(\"컬러\", '')\n",
    "중형 = 중형.replace(\"연핑크\", '')\n",
    "중형 = 중형.replace(\"베이지\", '')\n",
    "중형 = 중형.replace(\"매\\n\", '')\n",
    "중형 = 중형.replace(\"매 이상\", '')\n",
    "중형 = 중형.replace(\"피크\", '')"
   ]
  },
  {
   "cell_type": "code",
   "execution_count": 366,
   "id": "925a72d2",
   "metadata": {},
   "outputs": [],
   "source": [
    "대형 = \" \".join(대형)\n",
    "대형 = re.sub(r\"[^\\uAC00-\\uD7A3\\s]\", \"\", 대형)\n",
    "대형 = 대형.replace(\"아에르\", '')\n",
    "대형 = 대형.replace(\"어드밴스드\", '')\n",
    "대형 = 대형.replace(\"색상\", '')\n",
    "대형 = 대형.replace(\"사이즈\", '')\n",
    "대형 = 대형.replace(\"화이트\", '')\n",
    "대형 = 대형.replace(\"대형\", '')\n",
    "대형 = 대형.replace(\"이미지\", '')\n",
    "대형 = 대형.replace(\"펼쳐보기\", '')\n",
    "대형 = 대형.replace(\"리뷰\", '')\n",
    "대형 = 대형.replace(\"더보기접기\", '')\n",
    "대형 = 대형.replace(\"평점\", '')\n",
    "대형 = 대형.replace(\"무료배송\", '')\n",
    "대형 = 대형.replace(\"더보기\", '')\n",
    "대형 = 대형.replace(\"사진비디오 수\", '')\n",
    "대형 = 대형.replace(\"특가\", '')\n",
    "대형 = 대형.replace(\"라이트핏\", '')\n",
    "대형 = 대형.replace(\"이벤트\", '')\n",
    "대형 = 대형.replace(\"그레이\", '')\n",
    "대형 = 대형.replace(\"블랙\", '')\n",
    "대형 = 대형.replace(\"컬러\", '')\n",
    "대형 = 대형.replace(\"연핑크\", '')\n",
    "대형 = 대형.replace(\"베이지\", '')\n",
    "대형 = 대형.replace(\"매\\n\", '')\n",
    "대형 = 대형.replace(\"매 이상\", '')\n",
    "대형 = 대형.replace(\"피크\", '')"
   ]
  },
  {
   "cell_type": "markdown",
   "id": "49e98ab5",
   "metadata": {},
   "source": [
    "파일을 텍스트 파일로 저장한다."
   ]
  },
  {
   "cell_type": "code",
   "execution_count": 378,
   "id": "39e9293d",
   "metadata": {},
   "outputs": [],
   "source": [
    "file = open('새부리형_아에르_KF80_대중소(대형).txt', 'w', encoding=\"UTF-8\")\n",
    "\n",
    "file.write(대형)      # 파일에 문자열 저장\n",
    "file.close()"
   ]
  },
  {
   "cell_type": "code",
   "execution_count": 379,
   "id": "49f764ad",
   "metadata": {},
   "outputs": [],
   "source": [
    "file = open('새부리형_아에르_KF80_대중소(중형).txt', 'w', encoding=\"UTF-8\")\n",
    "\n",
    "file.write(중형)      # 파일에 문자열 저장\n",
    "file.close()"
   ]
  },
  {
   "cell_type": "code",
   "execution_count": 380,
   "id": "bda73972",
   "metadata": {},
   "outputs": [],
   "source": [
    "file = open('새부리형_아에르_KF80_대중소(소형).txt', 'w', encoding=\"UTF-8\")\n",
    "\n",
    "file.write(소형)      # 파일에 문자열 저장\n",
    "file.close()"
   ]
  },
  {
   "cell_type": "code",
   "execution_count": null,
   "id": "e41a4848",
   "metadata": {},
   "outputs": [],
   "source": []
  }
 ],
 "metadata": {
  "kernelspec": {
   "display_name": "Python 3 (ipykernel)",
   "language": "python",
   "name": "python3"
  },
  "language_info": {
   "codemirror_mode": {
    "name": "ipython",
    "version": 3
   },
   "file_extension": ".py",
   "mimetype": "text/x-python",
   "name": "python",
   "nbconvert_exporter": "python",
   "pygments_lexer": "ipython3",
   "version": "3.9.12"
  }
 },
 "nbformat": 4,
 "nbformat_minor": 5
}
